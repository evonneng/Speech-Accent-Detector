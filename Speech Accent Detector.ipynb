{
 "cells": [
  {
   "cell_type": "code",
   "execution_count": 18,
   "metadata": {},
   "outputs": [
    {
     "name": "stderr",
     "output_type": "stream",
     "text": [
      "/usr/local/lib/python3.6/site-packages/sklearn/ensemble/weight_boosting.py:29: DeprecationWarning: numpy.core.umath_tests is an internal NumPy module and should not be imported. It will be removed in a future NumPy release.\n",
      "  from numpy.core.umath_tests import inner1d\n"
     ]
    }
   ],
   "source": [
    "import librosa\n",
    "import sys\n",
    "import os\n",
    "import numpy as np\n",
    "import pandas as pd\n",
    "\n",
    "from sklearn import tree\n",
    "from sklearn.linear_model import LogisticRegression\n",
    "from sklearn.model_selection import cross_val_score\n",
    "from sklearn.ensemble import RandomForestClassifier"
   ]
  },
  {
   "cell_type": "code",
   "execution_count": 2,
   "metadata": {},
   "outputs": [],
   "source": [
    "RATE = 8000\n",
    "N_MFCC = 12\n",
    "\n",
    "NUM_FEATURES = 3000"
   ]
  },
  {
   "cell_type": "code",
   "execution_count": 11,
   "metadata": {},
   "outputs": [],
   "source": [
    "def get_wav(filename):\n",
    "    '''\n",
    "    filename: file name to load\n",
    "    return: numpy array down-sampled wav file\n",
    "    '''\n",
    "    y, sr = librosa.load('{}'.format(filename))\n",
    "    return librosa.core.resample(y=y, orig_sr=sr, target_sr=RATE, scale=True)\n",
    "\n",
    "def to_mfcc(wav):\n",
    "    '''\n",
    "    wav: numpy array down-sampled wav file\n",
    "    return: 2d numpy array of mfcc\n",
    "    '''\n",
    "    return librosa.feature.mfcc(y=wav, sr=RATE, n_mfcc=N_MFCC)\n",
    "\n",
    "def get_mfcc_from_filename(filename):\n",
    "    '''\n",
    "\n",
    "    '''\n",
    "    wav = get_wav(filename)\n",
    "    mfcc = to_mfcc(wav).flatten()\n",
    "\n",
    "    return mfcc[:NUM_FEATURES]\n",
    "\n",
    "def add_dir_to_df(dir_name, X):\n",
    "    '''\n",
    "    dir_name: the directory to add files to dataframe\n",
    "    X: features dataframe to add to\n",
    "    '''\n",
    "\n",
    "    filenames = map(lambda rel_path: dir_name + \"/\" + rel_path, os.listdir(dir_name))\n",
    "    mfccs = list(map(get_mfcc_from_filename, filenames))\n",
    "\n",
    "    new_rows = pd.DataFrame(mfccs, columns=X.columns)\n",
    "    return pd.concat([X, new_rows])\n",
    "\n",
    "\n",
    "def add_category_to_labels(dir_name, label, y):\n",
    "    '''\n",
    "    dir_name: the directory to add files to dataframe\n",
    "    label: label of new category\n",
    "    y: predictions dataframe to add to\n",
    "    '''\n",
    "    files = os.listdir(dir_name)\n",
    "    num_rows_to_add = len(files)\n",
    "\n",
    "    row_labels = pd.DataFrame(np.ones(num_rows_to_add) * label, columns=y.columns)\n",
    "    return pd.concat([y, row_labels])"
   ]
  },
  {
   "cell_type": "code",
   "execution_count": 20,
   "metadata": {},
   "outputs": [
    {
     "name": "stdout",
     "output_type": "stream",
     "text": [
      "done making dataframe, now making model...\n"
     ]
    }
   ],
   "source": [
    "X = pd.DataFrame(columns=list(range(NUM_FEATURES)))\n",
    "y = pd.DataFrame(columns=[\"y\"])\n",
    "\n",
    "dirs = [\"./recordings_wav/english\", \"./recordings_wav/spanish\"]\n",
    "\n",
    "for label, d in enumerate(dirs):\n",
    "    X = add_dir_to_df(d, X)\n",
    "    y = add_category_to_labels(d, label, y)\n",
    "y = y.values.ravel()\n",
    "\n",
    "print(\"done making dataframe, now making model...\")"
   ]
  },
  {
   "cell_type": "code",
   "execution_count": 22,
   "metadata": {},
   "outputs": [
    {
     "data": {
      "text/plain": [
       "array([0.82591093, 0.80566802, 0.84615385])"
      ]
     },
     "execution_count": 22,
     "metadata": {},
     "output_type": "execute_result"
    }
   ],
   "source": [
    "# clf = LogisticRegression(random_state=0, solver='lbfgs', multi_class='multinomial')\n",
    "clf = RandomForestClassifier(n_estimators=100)\n",
    "cross_val_score(clf, X, y, cv=3)"
   ]
  },
  {
   "cell_type": "code",
   "execution_count": null,
   "metadata": {},
   "outputs": [],
   "source": []
  }
 ],
 "metadata": {
  "kernelspec": {
   "display_name": "Python 3",
   "language": "python",
   "name": "python3"
  },
  "language_info": {
   "codemirror_mode": {
    "name": "ipython",
    "version": 3
   },
   "file_extension": ".py",
   "mimetype": "text/x-python",
   "name": "python",
   "nbconvert_exporter": "python",
   "pygments_lexer": "ipython3",
   "version": "3.6.4"
  }
 },
 "nbformat": 4,
 "nbformat_minor": 2
}
